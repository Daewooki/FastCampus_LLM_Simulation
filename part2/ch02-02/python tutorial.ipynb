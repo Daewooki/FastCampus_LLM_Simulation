{
 "cells": [
  {
   "cell_type": "markdown",
   "id": "7b707fb9-a39f-4511-af47-7149c9fef0a0",
   "metadata": {},
   "source": [
    "# 파이썬 기본 문법"
   ]
  },
  {
   "cell_type": "code",
   "execution_count": null,
   "id": "d911c4ac-d783-4ed6-ae41-955abfcd8038",
   "metadata": {},
   "outputs": [],
   "source": [
    "# 변수와 데이터 타입\n",
    "a = 10        # 정수\n",
    "b = 3.14      # 실수\n",
    "c = \"Hello!\"  # 문자열\n",
    "d = True      # 불리언\n",
    "\n",
    "# 출력\n",
    "print(\"a:\", a)\n",
    "print(\"b:\", b)\n",
    "print(\"c:\", c)\n",
    "print(\"d:\", d)\n",
    "\n",
    "# 기본 연산자\n",
    "sum_value = a + b\n",
    "print(\"Sum of a and b:\", sum_value)"
   ]
  },
  {
   "cell_type": "markdown",
   "id": "d83e1aa4-b024-4a72-908f-ba72ffb2d07a",
   "metadata": {},
   "source": [
    "# 데이터 구조"
   ]
  },
  {
   "cell_type": "code",
   "execution_count": null,
   "id": "318f6bf2-bc4d-4714-9474-565a63eb013b",
   "metadata": {},
   "outputs": [],
   "source": [
    "# 리스트\n",
    "my_list = [1, 2, 3, 4, 5]\n",
    "print(\"리스트:\", my_list)\n",
    "\n",
    "# 튜플\n",
    "my_tuple = (1, 2, 3)\n",
    "print(\"튜플:\", my_tuple)\n",
    "\n",
    "# 딕셔너리\n",
    "my_dict = {'name': 'FastCampus', 'age': 25}\n",
    "print(\"딕셔너리:\", my_dict)\n",
    "\n",
    "# 집합\n",
    "my_set = {1, 2, 2, 3, 4}\n",
    "print(\"집합:\", my_set)  # 중복된 값은 제거됨"
   ]
  },
  {
   "cell_type": "markdown",
   "id": "ac0207ba-b320-4708-a80e-523538982376",
   "metadata": {},
   "source": [
    "# 조건문과 반복문"
   ]
  },
  {
   "cell_type": "code",
   "execution_count": null,
   "id": "4c4e5e8a-0502-47ac-9c3e-925c040d3b00",
   "metadata": {},
   "outputs": [],
   "source": [
    "# 조건문\n",
    "x = 10\n",
    "if x > 5:\n",
    "    print(\"x는 5보다 큽니다.\")\n",
    "elif x == 5:\n",
    "    print(\"x는 5입니다.\")\n",
    "else:\n",
    "    print(\"x는 5보다 작습니다.\")\n",
    "\n",
    "# 반복문\n",
    "for i in range(5):\n",
    "    print(f\"i는 {i}\")\n",
    "\n",
    "# while 반복문\n",
    "count = 0\n",
    "while count < 5:\n",
    "    print(f\"Count is {count}\")\n",
    "    count += 1"
   ]
  },
  {
   "cell_type": "markdown",
   "id": "16cb5494-2876-49d1-aae4-c039901f63f6",
   "metadata": {},
   "source": [
    "# 함수와 모듈"
   ]
  },
  {
   "cell_type": "code",
   "execution_count": null,
   "id": "221bd145-26b8-4fd0-8a79-06439cd3220d",
   "metadata": {},
   "outputs": [],
   "source": [
    "# 함수 정의 및 호출\n",
    "def greet(name):\n",
    "    return f\"Hello, {name}!\"\n",
    "\n",
    "print(greet(\"Daewook\"))\n",
    "\n",
    "# 모듈 사용 (기본 math 모듈)\n",
    "import math\n",
    "print(\"Pi 값:\", math.pi)\n"
   ]
  },
  {
   "cell_type": "markdown",
   "id": "46e5daf2-702f-4b44-9b8b-fcec405f8809",
   "metadata": {},
   "source": [
    "# 예외 처리"
   ]
  },
  {
   "cell_type": "code",
   "execution_count": null,
   "id": "57649304-34bf-4aea-ba8b-3b0a2ccee27b",
   "metadata": {},
   "outputs": [],
   "source": [
    "try:\n",
    "    x = int(input(\"숫자를 입력하세요: \"))\n",
    "    print(f\"입력한 숫자는 {x}입니다.\")\n",
    "except ValueError:\n",
    "    print(\"숫자가 아닙니다. 다시 입력해주세요.\")\n",
    "finally:\n",
    "    print(\"프로그램이 종료되었습니다.\")"
   ]
  },
  {
   "cell_type": "markdown",
   "id": "5b904f4f-4422-4feb-9b80-599157450e30",
   "metadata": {},
   "source": [
    "# 파일 입출력\n"
   ]
  },
  {
   "cell_type": "code",
   "execution_count": null,
   "id": "d66b3d82-6b84-439f-b05b-15c6a117953d",
   "metadata": {},
   "outputs": [],
   "source": [
    "# 파일 쓰기\n",
    "with open(\"example.txt\", \"w\") as file:\n",
    "    file.write(\"이것은 예제 파일입니다.\\n\")\n",
    "\n",
    "# 파일 읽기\n",
    "with open(\"example.txt\", \"r\") as file:\n",
    "    content = file.read()\n",
    "    print(\"파일 내용:\", content)\n"
   ]
  },
  {
   "cell_type": "markdown",
   "id": "4d3963c4-8b04-4e5d-b0e6-7c1ad7e05cd1",
   "metadata": {},
   "source": [
    "# 객체 지향 프로그래밍"
   ]
  },
  {
   "cell_type": "code",
   "execution_count": null,
   "id": "29dbe3f4-0f74-4756-a732-ad0657e088be",
   "metadata": {},
   "outputs": [],
   "source": [
    "# 클래스 정의\n",
    "class Person:\n",
    "    def __init__(self, name, age):\n",
    "        self.name = name\n",
    "        self.age = age\n",
    "\n",
    "    def introduce(self):\n",
    "        return f\"안녕하세요, 제 이름은 {self.name}이고, 나이는 {self.age}살입니다.\"\n",
    "\n",
    "# 객체 생성 및 사용\n",
    "person1 = Person(\"Fast Campus\", 33)\n",
    "print(person1.introduce())\n"
   ]
  },
  {
   "cell_type": "markdown",
   "id": "fe849260-9db8-463b-890b-9fc877f652e4",
   "metadata": {},
   "source": [
    "# 라이브러리 설치와 관리"
   ]
  },
  {
   "cell_type": "code",
   "execution_count": null,
   "id": "6fa5352d-1f53-4057-b90f-9c4556c1538d",
   "metadata": {
    "scrolled": true
   },
   "outputs": [],
   "source": [
    "# pip 설치 (주피터 노트북에서 실행 가능)\n",
    "!pip install requests\n",
    "\n",
    "# 설치된 라이브러리 import\n",
    "import requests\n",
    "response = requests.get('https://www.google.com')\n",
    "print(\"응답 코드:\", response.status_code)\n",
    "print(response.text)\n"
   ]
  },
  {
   "cell_type": "markdown",
   "id": "9d5fd537-5a39-4251-9827-370cfd75bf53",
   "metadata": {},
   "source": [
    "# 기본 데이터 처리"
   ]
  },
  {
   "cell_type": "code",
   "execution_count": null,
   "id": "6672371e-4ffe-45c9-b4f4-eb05f90bf1b0",
   "metadata": {},
   "outputs": [],
   "source": [
    "# numpy를 통한 배열 연산\n",
    "import numpy as np\n",
    "\n",
    "array = np.array([1, 2, 3, 4, 5])\n",
    "print(\"배열:\", array)\n",
    "print(\"배열의 합:\", np.sum(array))\n",
    "\n",
    "# pandas를 통한 데이터 프레임 처리\n",
    "import pandas as pd\n",
    "\n",
    "data = {\n",
    "    '이름': ['Fast Campus', 'Alice', 'Bob'],\n",
    "    '나이': [30, 25, 20]\n",
    "}\n",
    "df = pd.DataFrame(data)\n",
    "# print(\"데이터 프레임:\\n\", df)\n",
    "df"
   ]
  },
  {
   "cell_type": "code",
   "execution_count": null,
   "id": "737523d2-335c-486c-b083-06bc122b336e",
   "metadata": {},
   "outputs": [],
   "source": []
  }
 ],
 "metadata": {
  "kernelspec": {
   "display_name": "Python 3 (ipykernel)",
   "language": "python",
   "name": "python3"
  },
  "language_info": {
   "codemirror_mode": {
    "name": "ipython",
    "version": 3
   },
   "file_extension": ".py",
   "mimetype": "text/x-python",
   "name": "python",
   "nbconvert_exporter": "python",
   "pygments_lexer": "ipython3",
   "version": "3.9.19"
  }
 },
 "nbformat": 4,
 "nbformat_minor": 5
}
